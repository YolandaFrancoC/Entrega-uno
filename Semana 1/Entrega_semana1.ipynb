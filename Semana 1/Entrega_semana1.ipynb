{
 "cells": [
  {
   "cell_type": "markdown",
   "metadata": {},
   "source": [
    "![image info](https://raw.githubusercontent.com/albahnsen/MIAD_ML_and_NLP/main/images/banner_1.png)"
   ]
  },
  {
   "cell_type": "markdown",
   "metadata": {},
   "source": [
    "# Taller: Construcción e implementación de árboles de decisión y métodos de ensamblaje\n",
    "\n",
    "En este taller podrá poner en práctica los sus conocimientos sobre construcción e implementación de árboles de decisión y métodos de ensamblajes. El taller está constituido por 9 puntos, 5 relacionados con árboles de decisión (parte A) y 4 con métodos de ensamblaje (parte B)."
   ]
  },
  {
   "cell_type": "markdown",
   "metadata": {},
   "source": [
    "## Parte A - Árboles de decisión\n",
    "\n",
    "En esta parte del taller se usará el conjunto de datos de Capital Bikeshare de Kaggle, donde cada observación representa el alquiler de bicicletas durante una hora y día determinado. Para más detalles puede visitar los siguientes enlaces: [datos](https://archive.ics.uci.edu/ml/machine-learning-databases/00275/Bike-Sharing-Dataset.zip), [dicccionario de datos](https://archive.ics.uci.edu/ml/datasets/Bike+Sharing+Dataset#)."
   ]
  },
  {
   "cell_type": "markdown",
   "metadata": {},
   "source": [
    "### Datos prestamo de bicicletas"
   ]
  },
  {
   "cell_type": "code",
   "execution_count": 1,
   "metadata": {},
   "outputs": [],
   "source": [
    "import warnings\n",
    "warnings.filterwarnings('ignore')"
   ]
  },
  {
   "cell_type": "code",
   "execution_count": 2,
   "metadata": {},
   "outputs": [],
   "source": [
    "# Importación de librerías\n",
    "%matplotlib inline\n",
    "import pandas as pd\n",
    "import numpy as np\n",
    "from sklearn.model_selection import cross_val_score\n",
    "from sklearn.linear_model import LinearRegression\n",
    "from sklearn.tree import DecisionTreeRegressor, export_graphviz"
   ]
  },
  {
   "cell_type": "code",
   "execution_count": 3,
   "metadata": {},
   "outputs": [
    {
     "data": {
      "text/html": [
       "<div>\n",
       "<style scoped>\n",
       "    .dataframe tbody tr th:only-of-type {\n",
       "        vertical-align: middle;\n",
       "    }\n",
       "\n",
       "    .dataframe tbody tr th {\n",
       "        vertical-align: top;\n",
       "    }\n",
       "\n",
       "    .dataframe thead th {\n",
       "        text-align: right;\n",
       "    }\n",
       "</style>\n",
       "<table border=\"1\" class=\"dataframe\">\n",
       "  <thead>\n",
       "    <tr style=\"text-align: right;\">\n",
       "      <th></th>\n",
       "      <th>season</th>\n",
       "      <th>holiday</th>\n",
       "      <th>workingday</th>\n",
       "      <th>weather</th>\n",
       "      <th>temp</th>\n",
       "      <th>atemp</th>\n",
       "      <th>humidity</th>\n",
       "      <th>windspeed</th>\n",
       "      <th>casual</th>\n",
       "      <th>registered</th>\n",
       "      <th>total</th>\n",
       "      <th>hour</th>\n",
       "    </tr>\n",
       "    <tr>\n",
       "      <th>datetime</th>\n",
       "      <th></th>\n",
       "      <th></th>\n",
       "      <th></th>\n",
       "      <th></th>\n",
       "      <th></th>\n",
       "      <th></th>\n",
       "      <th></th>\n",
       "      <th></th>\n",
       "      <th></th>\n",
       "      <th></th>\n",
       "      <th></th>\n",
       "      <th></th>\n",
       "    </tr>\n",
       "  </thead>\n",
       "  <tbody>\n",
       "    <tr>\n",
       "      <th>2011-01-01 00:00:00</th>\n",
       "      <td>1</td>\n",
       "      <td>0</td>\n",
       "      <td>0</td>\n",
       "      <td>1</td>\n",
       "      <td>9.84</td>\n",
       "      <td>14.395</td>\n",
       "      <td>81</td>\n",
       "      <td>0.0</td>\n",
       "      <td>3</td>\n",
       "      <td>13</td>\n",
       "      <td>16</td>\n",
       "      <td>0</td>\n",
       "    </tr>\n",
       "    <tr>\n",
       "      <th>2011-01-01 01:00:00</th>\n",
       "      <td>1</td>\n",
       "      <td>0</td>\n",
       "      <td>0</td>\n",
       "      <td>1</td>\n",
       "      <td>9.02</td>\n",
       "      <td>13.635</td>\n",
       "      <td>80</td>\n",
       "      <td>0.0</td>\n",
       "      <td>8</td>\n",
       "      <td>32</td>\n",
       "      <td>40</td>\n",
       "      <td>1</td>\n",
       "    </tr>\n",
       "    <tr>\n",
       "      <th>2011-01-01 02:00:00</th>\n",
       "      <td>1</td>\n",
       "      <td>0</td>\n",
       "      <td>0</td>\n",
       "      <td>1</td>\n",
       "      <td>9.02</td>\n",
       "      <td>13.635</td>\n",
       "      <td>80</td>\n",
       "      <td>0.0</td>\n",
       "      <td>5</td>\n",
       "      <td>27</td>\n",
       "      <td>32</td>\n",
       "      <td>2</td>\n",
       "    </tr>\n",
       "    <tr>\n",
       "      <th>2011-01-01 03:00:00</th>\n",
       "      <td>1</td>\n",
       "      <td>0</td>\n",
       "      <td>0</td>\n",
       "      <td>1</td>\n",
       "      <td>9.84</td>\n",
       "      <td>14.395</td>\n",
       "      <td>75</td>\n",
       "      <td>0.0</td>\n",
       "      <td>3</td>\n",
       "      <td>10</td>\n",
       "      <td>13</td>\n",
       "      <td>3</td>\n",
       "    </tr>\n",
       "    <tr>\n",
       "      <th>2011-01-01 04:00:00</th>\n",
       "      <td>1</td>\n",
       "      <td>0</td>\n",
       "      <td>0</td>\n",
       "      <td>1</td>\n",
       "      <td>9.84</td>\n",
       "      <td>14.395</td>\n",
       "      <td>75</td>\n",
       "      <td>0.0</td>\n",
       "      <td>0</td>\n",
       "      <td>1</td>\n",
       "      <td>1</td>\n",
       "      <td>4</td>\n",
       "    </tr>\n",
       "  </tbody>\n",
       "</table>\n",
       "</div>"
      ],
      "text/plain": [
       "                     season  holiday  workingday  weather  temp   atemp  \\\n",
       "datetime                                                                  \n",
       "2011-01-01 00:00:00       1        0           0        1  9.84  14.395   \n",
       "2011-01-01 01:00:00       1        0           0        1  9.02  13.635   \n",
       "2011-01-01 02:00:00       1        0           0        1  9.02  13.635   \n",
       "2011-01-01 03:00:00       1        0           0        1  9.84  14.395   \n",
       "2011-01-01 04:00:00       1        0           0        1  9.84  14.395   \n",
       "\n",
       "                     humidity  windspeed  casual  registered  total  hour  \n",
       "datetime                                                                   \n",
       "2011-01-01 00:00:00        81        0.0       3          13     16     0  \n",
       "2011-01-01 01:00:00        80        0.0       8          32     40     1  \n",
       "2011-01-01 02:00:00        80        0.0       5          27     32     2  \n",
       "2011-01-01 03:00:00        75        0.0       3          10     13     3  \n",
       "2011-01-01 04:00:00        75        0.0       0           1      1     4  "
      ]
     },
     "execution_count": 3,
     "metadata": {},
     "output_type": "execute_result"
    }
   ],
   "source": [
    "# Lectura de la información de archivo .csv\n",
    "bikes = pd.read_csv('https://raw.githubusercontent.com/davidzarruk/MIAD_ML_NLP_2023/main/datasets/bikeshare.csv', index_col='datetime', parse_dates=True)\n",
    "\n",
    "# Renombrar variable \"count\" a \"total\"\n",
    "bikes.rename(columns={'count':'total'}, inplace=True)\n",
    "\n",
    "# Crear la hora como una variable \n",
    "bikes['hour'] = bikes.index.hour\n",
    "\n",
    "# Visualización de los datos\n",
    "bikes.head()"
   ]
  },
  {
   "cell_type": "markdown",
   "metadata": {},
   "source": [
    "### Punto 1 - Análisis descriptivo\n",
    "\n",
    "Ejecute las celdas 1.1 y 1.2. A partir de los resultados realice un análisis descriptivo sobre las variables \"season\" y \"hour\", escriba sus inferencias sobre los datos. Para complementar su análisis puede usar métricas como máximo, mínimo, percentiles entre otros."
   ]
  },
  {
   "cell_type": "code",
   "execution_count": 4,
   "metadata": {
    "scrolled": true
   },
   "outputs": [
    {
     "name": "stdout",
     "output_type": "stream",
     "text": [
      "Promedios\n",
      "season\n",
      "1    116.343261\n",
      "2    215.251372\n",
      "3    234.417124\n",
      "4    198.988296\n",
      "Name: total, dtype: float64\n",
      "Sumas\n",
      "season\n",
      "1    312498\n",
      "2    588282\n",
      "3    640662\n",
      "4    544034\n",
      "Name: total, dtype: int64\n",
      "Desviación estandar\n",
      "season\n",
      "1    125.273974\n",
      "2    192.007843\n",
      "3    197.151001\n",
      "4    177.622409\n",
      "Name: total, dtype: float64\n",
      "Mínimo\n",
      "season\n",
      "1    1\n",
      "2    1\n",
      "3    1\n",
      "4    1\n",
      "Name: total, dtype: int64\n",
      "Máximo\n",
      "season\n",
      "1    801\n",
      "2    873\n",
      "3    977\n",
      "4    948\n",
      "Name: total, dtype: int64\n",
      "Cuartiles\n",
      "season      \n",
      "1       0.25     24.0\n",
      "        0.50     78.0\n",
      "        0.75    164.0\n",
      "2       0.25     49.0\n",
      "        0.50    172.0\n",
      "        0.75    321.0\n",
      "3       0.25     68.0\n",
      "        0.50    195.0\n",
      "        0.75    347.0\n",
      "4       0.25     51.0\n",
      "        0.50    161.0\n",
      "        0.75    294.0\n",
      "Name: total, dtype: float64\n"
     ]
    }
   ],
   "source": [
    "# Celda 1.1\n",
    "print(\"Promedios\")\n",
    "print(bikes.groupby('season').total.mean())\n",
    "print(\"Sumas\")\n",
    "print(bikes.groupby('season').total.sum())\n",
    "print(\"Desviación estandar\")\n",
    "print(bikes.groupby('season').total.std())\n",
    "print(\"Mínimo\")\n",
    "print(bikes.groupby('season').total.min())\n",
    "print(\"Máximo\")\n",
    "print(bikes.groupby('season').total.max())\n",
    "print(\"Cuartiles\")\n",
    "print(bikes.groupby('season').total.quantile([.25, .5, 0.75]))"
   ]
  },
  {
   "cell_type": "markdown",
   "metadata": {},
   "source": [
    "###### Promedios:\n",
    "Durante la época de verano es cuando se encuentra una mayor tendencia a alquilar bicicletas. Teniendo en cuenta que cada fila representa una hora y un día, entonces el promedio obtenido indica que en verano se tienden a alquilar 234 bicicletas por hora. En cambio, en invierno, la tendencia es a alquilar 116 bicicletas por hora, siendo este el menor número obtenido.\n",
    "\n",
    "###### Sumas:\n",
    "\n",
    "En total, los registros históricos de esta base de datos muestran que en invierno se han hecho un total de 312498 alquileres, en primavera se han realizado 588282, en verano 640662 y en otoño 5444034.\n",
    "\n",
    "###### Desviación estandar\n",
    "\n",
    "En términos de alquileres, también es el verano la época en la cual hay una mayor dispersión. Esto quiere decir que hay mayor variabiabilidad en el número de bicicletas que se alquila por hora durante esta época. En cambio, en invierno es la época en la que hay mayor homogeneidad, debido a su menor desviación estandar.\n",
    "\n",
    "###### Mínimo\n",
    "\n",
    "Durante cualquiera de las estaciones, mínimo se tuvo un alquiler de una bicicleta por hora.\n",
    "\n",
    "###### Máximo\n",
    "\n",
    "En invierno, el número máximo de alquileres que se alcanzó fue de 801 bicicletas. En primavera este número ascendió a 873, en verano a 977 y en otoño a 948. De esta forma el número máximo de alquileres en este sistema en una hora fue de 977 y ocurrió en verano.\n",
    "\n",
    "###### Cuartiles\n",
    "\n",
    "Durante invierno, en el 25% de las ocasiones se alquilaron 24 bicicletas o menos, en el 50% de los casos se alquilaron 78 y en el 75% de los casos 164 o menos.\n",
    "Durante primavera, en el 25% de las ocasiones se alquilaron 49 bicicletas o menos, en el 50% de los casos se alquilaron 172 y en el 75% de los casos 321 o menos.\n",
    "Durante verano, en el 25% de las ocasiones se alquilaron 68 bicicletas o menos, en el 50% de los casos se alquilaron 195 y en el 347% de los casos 164 o menos.\n",
    "Durante otoño, en el 25% de las ocasiones se alquilaron 51 bicicletas o menos, en el 50% de los casos se alquilaron 161 y en el 75% de los casos 294 o menos.\n"
   ]
  },
  {
   "cell_type": "code",
   "execution_count": 5,
   "metadata": {
    "scrolled": false
   },
   "outputs": [
    {
     "name": "stdout",
     "output_type": "stream",
     "text": [
      "Promedios\n",
      "hour\n",
      "0      55.138462\n",
      "1      33.859031\n",
      "2      22.899554\n",
      "3      11.757506\n",
      "4       6.407240\n",
      "5      19.767699\n",
      "6      76.259341\n",
      "7     213.116484\n",
      "8     362.769231\n",
      "9     221.780220\n",
      "10    175.092308\n",
      "11    210.674725\n",
      "12    256.508772\n",
      "13    257.787281\n",
      "14    243.442982\n",
      "15    254.298246\n",
      "16    316.372807\n",
      "17    468.765351\n",
      "18    430.859649\n",
      "19    315.278509\n",
      "20    228.517544\n",
      "21    173.370614\n",
      "22    133.576754\n",
      "23     89.508772\n",
      "Name: total, dtype: float64\n",
      "Sumas\n",
      "hour\n",
      "0      25088\n",
      "1      15372\n",
      "2      10259\n",
      "3       5091\n",
      "4       2832\n",
      "5       8935\n",
      "6      34698\n",
      "7      96968\n",
      "8     165060\n",
      "9     100910\n",
      "10     79667\n",
      "11     95857\n",
      "12    116968\n",
      "13    117551\n",
      "14    111010\n",
      "15    115960\n",
      "16    144266\n",
      "17    213757\n",
      "18    196472\n",
      "19    143767\n",
      "20    104204\n",
      "21     79057\n",
      "22     60911\n",
      "23     40816\n",
      "Name: total, dtype: int64\n",
      "Desviación estandar\n",
      "hour\n",
      "0      43.620012\n",
      "1      34.112105\n",
      "2      26.110267\n",
      "3      12.666442\n",
      "4       4.217633\n",
      "5      12.784293\n",
      "6      54.745333\n",
      "7     159.207044\n",
      "8     231.723065\n",
      "9      92.099209\n",
      "10    101.807629\n",
      "11    127.444294\n",
      "12    143.881880\n",
      "13    149.167185\n",
      "14    147.563199\n",
      "15    144.235670\n",
      "16    145.664786\n",
      "17    223.775485\n",
      "18    219.908138\n",
      "19    156.641732\n",
      "20    116.411565\n",
      "21     87.629319\n",
      "22     69.844495\n",
      "23     51.638004\n",
      "Name: total, dtype: float64\n",
      "Mínimo\n",
      "hour\n",
      "0      2\n",
      "1      1\n",
      "2      1\n",
      "3      1\n",
      "4      1\n",
      "5      1\n",
      "6      1\n",
      "7      1\n",
      "8      8\n",
      "9     14\n",
      "10    17\n",
      "11    10\n",
      "12     3\n",
      "13    11\n",
      "14    12\n",
      "15     7\n",
      "16    11\n",
      "17    15\n",
      "18    23\n",
      "19    11\n",
      "20    11\n",
      "21     6\n",
      "22     9\n",
      "23     4\n",
      "Name: total, dtype: int64\n",
      "Máximo\n",
      "hour\n",
      "0     283\n",
      "1     168\n",
      "2     119\n",
      "3      66\n",
      "4      28\n",
      "5      57\n",
      "6     213\n",
      "7     596\n",
      "8     839\n",
      "9     414\n",
      "10    539\n",
      "11    647\n",
      "12    757\n",
      "13    729\n",
      "14    730\n",
      "15    724\n",
      "16    783\n",
      "17    970\n",
      "18    977\n",
      "19    743\n",
      "20    551\n",
      "21    584\n",
      "22    502\n",
      "23    256\n",
      "Name: total, dtype: int64\n",
      "Cuartiles\n",
      "hour      \n",
      "0     0.25     24.00\n",
      "      0.50     41.00\n",
      "      0.75     74.50\n",
      "1     0.25     11.00\n",
      "      0.50     19.00\n",
      "               ...  \n",
      "22    0.50    129.00\n",
      "      0.75    175.00\n",
      "23    0.25     52.75\n",
      "      0.50     80.00\n",
      "      0.75    123.00\n",
      "Name: total, Length: 72, dtype: float64\n"
     ]
    }
   ],
   "source": [
    "# Celda 1.2\n",
    "print(\"Promedios\")\n",
    "print(bikes.groupby('hour').total.mean())\n",
    "print(\"Sumas\")\n",
    "print(bikes.groupby('hour').total.sum())\n",
    "print(\"Desviación estandar\")\n",
    "print(bikes.groupby('hour').total.std())\n",
    "print(\"Mínimo\")\n",
    "print(bikes.groupby('hour').total.min())\n",
    "print(\"Máximo\")\n",
    "print(bikes.groupby('hour').total.max())\n",
    "print(\"Cuartiles\")\n",
    "print(bikes.groupby('hour').total.quantile([.25, .5, 0.75]))"
   ]
  },
  {
   "cell_type": "markdown",
   "metadata": {},
   "source": [
    "###### Promedios\n",
    "\n",
    "Los promedios indican que durante las primeras horas del día hay pocos alquileres de bicicletas. La tendencia aumenta entre 7 y 8 de la mañana, siendo estas las horas pico matutinas, posiblemente debido a que, a estas horas tanto trabajadores como estudiantes pueden usar este servicio para desplazarse hacia sus actividades. En la tarde, las horas pico se encuentran entre 4 pm y 7 pm. La hora con mayor tendencia de uso es las 5 pm.\n",
    "\n",
    "###### Sumas\n",
    "\n",
    "La hora en la que históricamente se han realizado menos alquileres es a las 4 am, con un total de 2832. En cambio, la hora con mayor número de alquileres es las 5 pm con  213757 en total.\n",
    "\n",
    "##### Desviación estandar\n",
    "\n",
    "La heterogeneidad en el alquiler de bicicletas por hora se aumenta cuando se aumenta la tendencia. Es decir que en las horas en las que más se usa este servicio son también las horas en las que se presenta mayor variabilidad.\n",
    "\n",
    "##### Mínimo\n",
    "En todas las horas, como mínimo se ha realizado el alquiler de una bicicleta. A las 6 pm, que es parte de la hora pico, el día con menos alquiler de bicicletas se alcanzó un total de 23 servicios.\n",
    "\n",
    "##### Máximo\n",
    "\n",
    "El mayor número de alquileres en una hora fue de 977 y ocurrió a las 6 pm."
   ]
  },
  {
   "cell_type": "markdown",
   "metadata": {},
   "source": [
    "### Punto 2 - Análisis de gráficos\n",
    "\n",
    "Primero ejecute la celda 2.1 y asegúrese de comprender el código y el resultado. Luego, en cada una de celdas 2.2 y 2.3 escriba un código que genere una gráfica del número de bicicletas rentadas promedio para cada valor de la variable \"hour\" (hora) cuando la variable \"season\" es igual a 1 (invierno) e igual a 3 (verano), respectivamente. Analice y escriba sus hallazgos."
   ]
  },
  {
   "cell_type": "code",
   "execution_count": 6,
   "metadata": {},
   "outputs": [
    {
     "data": {
      "text/plain": [
       "<AxesSubplot:xlabel='hour'>"
      ]
     },
     "execution_count": 6,
     "metadata": {},
     "output_type": "execute_result"
    },
    {
     "data": {
      "image/png": "[encoded data removed]",
      "text/plain": [
       "<Figure size 432x288 with 1 Axes>"
      ]
     },
     "metadata": {
      "needs_background": "light"
     },
     "output_type": "display_data"
    }
   ],
   "source": [
    "# Celda 2.1 - rentas promedio para cada valor de la variable \"hour\"\n",
    "bikes.groupby('hour').total.mean().plot()"
   ]
  },
  {
   "cell_type": "code",
   "execution_count": 7,
   "metadata": {},
   "outputs": [
    {
     "data": {
      "text/plain": [
       "<AxesSubplot:xlabel='hour'>"
      ]
     },
     "execution_count": 7,
     "metadata": {},
     "output_type": "execute_result"
    },
    {
     "data": {
      "image/png": "[encoded data removed]",
      "text/plain": [
       "<Figure size 432x288 with 1 Axes>"
      ]
     },
     "metadata": {
      "needs_background": "light"
     },
     "output_type": "display_data"
    }
   ],
   "source": [
    "# Celda 2.2 - \"season\"=1 escriba su código y hallazgos \n",
    "bikes[bikes['season'] == 1].groupby('hour')['total'].mean().plot()"
   ]
  },
  {
   "cell_type": "code",
   "execution_count": 8,
   "metadata": {
    "scrolled": true
   },
   "outputs": [
    {
     "data": {
      "text/plain": [
       "<AxesSubplot:xlabel='hour'>"
      ]
     },
     "execution_count": 8,
     "metadata": {},
     "output_type": "execute_result"
    },
    {
     "data": {
      "image/png": "[encoded data removed]",
      "text/plain": [
       "<Figure size 432x288 with 1 Axes>"
      ]
     },
     "metadata": {
      "needs_background": "light"
     },
     "output_type": "display_data"
    }
   ],
   "source": [
    "# Celda 2.3 - \"season\"=3 escriba su código y hallazgos \n",
    "bikes[bikes['season'] == 3].groupby('hour')['total'].mean().plot()"
   ]
  },
  {
   "cell_type": "markdown",
   "metadata": {},
   "source": [
    "Los gráficos refuerzan el resultado obtenido con las medias condicionales en la sección previa. En este caso, se observa que, ya sea en general, en invierno o en verano, hay una hora pico matutina alrededor de las 7 y 8 am. En la tarde, estas horas pico están entre las 4 y las 7 pm, alcanzando un máximo a las 5 pm. También se evidencia que el número de alquileres, independientemente de la hora es mucho mayor en verano que en invierno."
   ]
  },
  {
   "cell_type": "markdown",
   "metadata": {},
   "source": [
    "### Punto 3 - Regresión lineal\n",
    "En la celda 3 ajuste un modelo de regresión lineal a todo el conjunto de datos, utilizando \"total\" como variable de respuesta y \"season\" y \"hour\" como las únicas variables predictoras, teniendo en cuenta que la variable \"season\" es categórica. Luego, imprima los coeficientes e interprételos. ¿Cuáles son las limitaciones de la regresión lineal en este caso?"
   ]
  },
  {
   "cell_type": "code",
   "execution_count": 9,
   "metadata": {
    "scrolled": true
   },
   "outputs": [
    {
     "name": "stdout",
     "output_type": "stream",
     "text": [
      "Coeficiente de determinación: 0.22339339904452493\n",
      "Intercepto: -6.430262462306132\n",
      "Pendientes: [ 10.54520609 100.31723192 119.46754995  84.08311787]\n"
     ]
    }
   ],
   "source": [
    "# Celda 3\n",
    "X = bikes[[\"season\", \"hour\"]]\n",
    "dummies = pd.get_dummies(bikes['season'], prefix='season', drop_first=True)\n",
    "X= pd.concat([X, dummies], axis=1)\n",
    "X = X.drop('season', axis=1)\n",
    "y = bikes[\"total\"]\n",
    "\n",
    "model = LinearRegression()\n",
    "model.fit(X, y)\n",
    "\n",
    "r_sq = model.score(X, y)\n",
    "print(f\"Coeficiente de determinación: {r_sq}\")\n",
    "print(f\"Intercepto: {model.intercept_}\")\n",
    "print(f\"Pendientes: {model.coef_}\")"
   ]
  },
  {
   "cell_type": "markdown",
   "metadata": {},
   "source": [
    "###### Interpretación de los resultados \n",
    "\n",
    "1. El coeficiente de determinación indica que con este modelo es posible explicar el 22,34% de las variaciones que se presentan en el total de alquiler de bicicletas.\n",
    "\n",
    "2. El intercepto es igual a -6.43. En este caso, este intercepto indicaría que si la variable hora es igual a cero y si las dummy de estaciones son iguales a cero, se esperaría un total de alquiler igual a -6.43 en promedio. Este sería entonces el promedio estimado para la hora cero en invierno (teniendo en cuenta que las dummy que se incluyeron en el modelo son las de verano, primavera y otoño). Este resultado no tiene mucho sentido debido al valor negativo, pero se pudo haber presentado debido a las limitaciones del modelo que se comentarán más adelante.\n",
    "\n",
    "3. La pendiente obtenida para la variable hora indica que, conforme avanza el día, por cada hora adicional, el alquiler de bicicletas tiende a aumentar en 10.54 unidades. Ya que el invierno representa el cero de las tres dummy, entonces se tiene que: en primavera se tiende a tener un alquiler de bicicletas mayor en 100.32 unidades que en invierno. En verano se tiende a tener un alquiler superior en 119.47 unidades superior con respecto al invierno. En primavera, el alquiler tiende a ser superior al del invierno en 84.08 unidades.\n",
    "\n",
    "###### Limitaciones.\n",
    "\n",
    "1. Si se desea utilizar este modelo con fines predictivos, el coeficiente de determinación es bajo.\n",
    "2. La variable dependiente no es una variable continua. Es un conteo, razón por la cual el método de mínimos cuadrados ordinarios podría presentar sesgos. Por esta razón es posible que se haya obtenido un valor del intercepto que no tiene sentido.\n",
    "3. La variable de horas en este caso cuenta con dos limitaciones. En primer lugar, es una variable que sería categórica, con 24 categorías. Con este modelo se estaría usando como si fuera numérica y creciera de forma monótona. Adicionalmente, el alquiler cambia de forma irregular entre las diferentes horas, por lo cual no sería correcto esperar un efecto lineal de esta variable sobre la dependiente. Estas dos limitaciones se podrían solucionar generando variables dicotómicas para cada hora o, por lo menos para unas franjas horarias.\n"
   ]
  },
  {
   "cell_type": "markdown",
   "metadata": {},
   "source": [
    "### Punto 4 - Árbol de decisión manual\n",
    "En la celda 4 cree un árbol de decisiones para pronosticar la variable \"total\" iterando **manualmente** sobre las variables \"hour\" y  \"season\". El árbol debe tener al menos 6 nodos finales."
   ]
  },
  {
   "cell_type": "code",
   "execution_count": 10,
   "metadata": {},
   "outputs": [
    {
     "name": "stdout",
     "output_type": "stream",
     "text": [
      "0.16437098255280075\n"
     ]
    }
   ],
   "source": [
    "# Celda 4\n",
    "# Separación de variables predictoras (X) y variable de interes (y)\n",
    "from sklearn.model_selection import train_test_split\n",
    "\n",
    "\n",
    "X = bikes[[\"season\", \"hour\"]]\n",
    "y = (bikes.total > 164).astype(int)\n",
    "X_train, X_test, y_train, y_test = train_test_split(X, y, test_size=0.2, random_state=42)\n",
    "# Definición de parámetros y criterios de parada\n",
    "max_depth = None\n",
    "num_pct = 10\n",
    "max_features = None\n",
    "min_gain=0.001\n",
    "\n",
    "def gini(y):\n",
    "    if y.shape[0] == 0:\n",
    "        return 0\n",
    "    else:\n",
    "        return 1 - (y.mean()**2 + (1 - y.mean())**2)\n",
    "    \n",
    "def gini_impurity(X_col, y, split):\n",
    "    \n",
    "    filter_l = X_col < split\n",
    "    y_l = y.loc[filter_l]\n",
    "    y_r = y.loc[~filter_l]\n",
    "    \n",
    "    n_l = y_l.shape[0]\n",
    "    n_r = y_r.shape[0]\n",
    "    \n",
    "    gini_y = gini(y)\n",
    "    gini_l = gini(y_l)\n",
    "    gini_r = gini(y_r)\n",
    "    \n",
    "    gini_impurity_ = gini_y - (n_l / (n_l + n_r) * gini_l + n_r / (n_l + n_r) * gini_r)\n",
    "    \n",
    "    return gini_impurity_\n",
    "\n",
    "def best_split(X, y, num_pct=10):\n",
    "    \n",
    "    features = range(X.shape[1])\n",
    "    \n",
    "    best_split = [0, 0, 0]  # j, split, gain\n",
    "    \n",
    "    # Para todas las varibles \n",
    "    for j in features:\n",
    "        \n",
    "        splits = np.percentile(X.iloc[:, j], np.arange(0, 100, 100.0 / (num_pct+1)).tolist())\n",
    "        splits = np.unique(splits)[1:]\n",
    "        \n",
    "        # Para cada partición\n",
    "        for split in splits:\n",
    "            gain = gini_impurity(X.iloc[:, j], y, split)\n",
    "                        \n",
    "            if gain > best_split[2]:\n",
    "                best_split = [j, split, gain]\n",
    "    \n",
    "    return best_split\n",
    "\n",
    "# Definición de la función tree_grow para hacer un crecimiento recursivo del árbol\n",
    "def tree_grow(X, y, level=0, min_gain=0.001, max_depth=None, num_pct=10):\n",
    "    \n",
    "    # Si solo es una observación\n",
    "    if X.shape[0] == 1:\n",
    "        tree = dict(y_pred=y.iloc[:1].values[0], y_prob=0.5, level=level, split=-1, n_samples=1, gain=0)\n",
    "        return tree\n",
    "    \n",
    "    # Calcular la mejor división\n",
    "    j, split, gain = best_split(X, y, num_pct)\n",
    "    \n",
    "    # Guardar el árbol y estimar la predicción\n",
    "    y_pred = int(y.mean() >= 0.5) \n",
    "    y_prob = (y.sum() + 1.0) / (y.shape[0] + 2.0)  # Corrección Laplace \n",
    "    \n",
    "    tree = dict(y_pred=y_pred, y_prob=y_prob, level=level, split=-1, n_samples=X.shape[0], gain=gain)\n",
    "    # Revisar el criterio de parada \n",
    "    if gain < min_gain:\n",
    "        return tree\n",
    "    if max_depth is not None:\n",
    "        if level >= max_depth:\n",
    "            return tree   \n",
    "    \n",
    "    # Continuar creando la partición\n",
    "    filter_l = X.iloc[:, j] < split\n",
    "    X_l, y_l = X.loc[filter_l], y.loc[filter_l]\n",
    "    X_r, y_r = X.loc[~filter_l], y.loc[~filter_l]\n",
    "    tree['split'] = [j, split]\n",
    "\n",
    "    # Siguiente iteración para cada partición\n",
    "    \n",
    "    tree['sl'] = tree_grow(X_l, y_l, level + 1, min_gain=min_gain, max_depth=max_depth, num_pct=num_pct)\n",
    "    tree['sr'] = tree_grow(X_r, y_r, level + 1, min_gain=min_gain, max_depth=max_depth, num_pct=num_pct)\n",
    "    \n",
    "    return tree\n",
    "\n",
    "tree = tree_grow(X, y, level=0, min_gain=0.001, max_depth=3, num_pct=10)\n",
    "\n",
    "# Definición de la función tree_predict para hacer predicciones según las variables 'X' y el árbol 'tree'\n",
    "\n",
    "def tree_predict(X, tree, proba=False):\n",
    "    \n",
    "    predicted = np.ones(X.shape[0])\n",
    "\n",
    "    # Revisar si es el nodo final\n",
    "    if tree['split'] == -1:\n",
    "        if not proba:\n",
    "            predicted = predicted * tree['y_pred']\n",
    "        else:\n",
    "            predicted = predicted * tree['y_prob']\n",
    "            \n",
    "    else:\n",
    "        \n",
    "        j, split = tree['split']\n",
    "        filter_l = (X.iloc[:, j] < split)\n",
    "        X_l = X.loc[filter_l]\n",
    "        X_r = X.loc[~filter_l]\n",
    "\n",
    "        if X_l.shape[0] == 0:  # Si el nodo izquierdo está vacio solo continua con el derecho \n",
    "            predicted[~filter_l] = tree_predict(X_r, tree['sr'], proba)\n",
    "        elif X_r.shape[0] == 0:  #  Si el nodo derecho está vacio solo continua con el izquierdo\n",
    "            predicted[filter_l] = tree_predict(X_l, tree['sl'], proba)\n",
    "        else:\n",
    "            predicted[filter_l] = tree_predict(X_l, tree['sl'], proba)\n",
    "            predicted[~filter_l] = tree_predict(X_r, tree['sr'], proba)\n",
    "\n",
    "    return predicted\n",
    "\n",
    "\n",
    "tree = tree_grow(X_train, y_train, level=0, min_gain=0.001, max_depth=8, num_pct=10)\n",
    "y_pred = tree_predict(X_test, tree)\n",
    "\n",
    "\n",
    "diferencia = y_test - y_pred\n",
    "diferencia_cuadrada = np.square(diferencia)\n",
    "mse = np.mean(diferencia_cuadrada)\n",
    "print(mse)"
   ]
  },
  {
   "cell_type": "markdown",
   "metadata": {},
   "source": [
    "En este caso, ya que la variable dependiente es numérica, antes de aplicar árboles de clasificación manualmente, se generó una segmentación para el total. Con el número 1 se denotan las horas con más de 164 alquileres, consideradas como de alto número de servicios. Este criterio se decidió debido a que este es el percentil 75 en invierno y podría mostrar un buen umbral para segmentar. Como medida de desempeño se usó el mse. En este caso, el resultado fue de 0.1643"
   ]
  },
  {
   "cell_type": "markdown",
   "metadata": {},
   "source": [
    "### Punto 5 - Árbol de decisión con librería\n",
    "En la celda 5 entrene un árbol de decisiones con la **librería sklearn**, usando las variables predictoras \"season\" y \"hour\" y calibre los parámetros que considere conveniente para obtener un mejor desempeño. Recuerde dividir los datos en conjuntos de entrenamiento y validación para esto. Comente el desempeño del modelo con alguna métrica de desempeño de modelos de regresión y compare desempeño con el modelo del punto 3."
   ]
  },
  {
   "cell_type": "code",
   "execution_count": 11,
   "metadata": {},
   "outputs": [
    {
     "name": "stdout",
     "output_type": "stream",
     "text": [
      "MSE: 13464.749112666655\n"
     ]
    }
   ],
   "source": [
    "# Celda 5\n",
    "from sklearn.tree import DecisionTreeRegressor\n",
    "from sklearn.metrics import mean_squared_error\n",
    "import matplotlib.pyplot as plt\n",
    "\n",
    "X = bikes[[\"season\", \"hour\"]]\n",
    "y = bikes.total\n",
    "X_train, X_test, y_train, y_test = train_test_split(X, y, test_size=0.2, random_state=42)\n",
    "\n",
    "tree = DecisionTreeRegressor(max_depth=8, random_state=42)\n",
    "# Entrena el modelo con los datos de entrenamiento\n",
    "tree.fit(X_train, y_train)\n",
    "\n",
    "# Realiza una predicción con los datos de prueba\n",
    "y_pred = tree.predict(X_test)\n",
    "\n",
    "# Calcula el error cuadrático medio (MSE) de la predicción\n",
    "mse = mean_squared_error(y_test, y_pred)\n",
    "\n",
    "# Imprime el MSE\n",
    "print(\"MSE:\", mse)\n",
    "\n",
    "max_depth_range = range(1, 21)\n",
    "\n",
    "mse_scores = []\n",
    "for depth in max_depth_range:\n",
    "    # Definición del árbol de decisión usando DecisionTreeClassifier de la libreria sklearn\n",
    "    tree = DecisionTreeRegressor(max_depth=depth, random_state=42)\n",
    "    tree.fit(X_train, y_train)\n",
    "    y_pred = tree.predict(X_test)\n",
    "    mse_scores.append(mean_squared_error(y_test, y_pred))"
   ]
  },
  {
   "cell_type": "code",
   "execution_count": 12,
   "metadata": {},
   "outputs": [
    {
     "data": {
      "text/plain": [
       "Text(0, 0.5, 'MSE')"
      ]
     },
     "execution_count": 12,
     "metadata": {},
     "output_type": "execute_result"
    },
    {
     "data": {
      "image/png": "[encoded data removed]",
      "text/plain": [
       "<Figure size 432x288 with 1 Axes>"
      ]
     },
     "metadata": {
      "needs_background": "light"
     },
     "output_type": "display_data"
    }
   ],
   "source": [
    "# Gráfica max_depth versus RMSE (error del modelo)\n",
    "plt.plot(max_depth_range, mse_scores)\n",
    "plt.xlabel('max_depth')\n",
    "plt.ylabel('MSE')"
   ]
  },
  {
   "cell_type": "code",
   "execution_count": 13,
   "metadata": {
    "scrolled": true
   },
   "outputs": [
    {
     "data": {
      "text/plain": [
       "(13451.363196184311, 9)"
      ]
     },
     "execution_count": 13,
     "metadata": {},
     "output_type": "execute_result"
    }
   ],
   "source": [
    "sorted(zip(mse_scores, max_depth_range))[0]"
   ]
  },
  {
   "cell_type": "markdown",
   "metadata": {},
   "source": [
    "Para el caso de árboles de regresión, se utilizó sklearn. En primer lugar se evaluó el modelo con max_depth=8. Después, para calibrar se realizó un ciclo para probar diferentes niveles para este parámetro y se determinó cuál fue el menor mse. En este caso, el menor mse se encontró en un valor de 13451, con un max_depth=9. Si bien este mse es mayor que el del punto anterior hay que mencionar que no son comparables debido a que el punto 4 era un modelo de clasificación, mientras que en el segundo se tiene un problema de regresión."
   ]
  },
  {
   "cell_type": "markdown",
   "metadata": {},
   "source": [
    "## Parte B - Métodos de ensamblajes\n",
    "En esta parte del taller se usará el conjunto de datos de Popularidad de Noticias Online. El objetivo es predecir si la notica es popular o no, la popularidad está dada por la cantidad de reacciones en redes sociales. Para más detalles puede visitar el siguiente enlace: [datos](https://archive.ics.uci.edu/ml/datasets/online+news+popularity)."
   ]
  },
  {
   "cell_type": "markdown",
   "metadata": {},
   "source": [
    "### Datos popularidad de noticias"
   ]
  },
  {
   "cell_type": "code",
   "execution_count": 14,
   "metadata": {},
   "outputs": [
    {
     "data": {
      "text/html": [
       "<div>\n",
       "<style scoped>\n",
       "    .dataframe tbody tr th:only-of-type {\n",
       "        vertical-align: middle;\n",
       "    }\n",
       "\n",
       "    .dataframe tbody tr th {\n",
       "        vertical-align: top;\n",
       "    }\n",
       "\n",
       "    .dataframe thead th {\n",
       "        text-align: right;\n",
       "    }\n",
       "</style>\n",
       "<table border=\"1\" class=\"dataframe\">\n",
       "  <thead>\n",
       "    <tr style=\"text-align: right;\">\n",
       "      <th></th>\n",
       "      <th>url</th>\n",
       "      <th>timedelta</th>\n",
       "      <th>n_tokens_title</th>\n",
       "      <th>n_tokens_content</th>\n",
       "      <th>n_unique_tokens</th>\n",
       "      <th>n_non_stop_words</th>\n",
       "      <th>n_non_stop_unique_tokens</th>\n",
       "      <th>num_hrefs</th>\n",
       "      <th>num_self_hrefs</th>\n",
       "      <th>num_imgs</th>\n",
       "      <th>...</th>\n",
       "      <th>min_positive_polarity</th>\n",
       "      <th>max_positive_polarity</th>\n",
       "      <th>avg_negative_polarity</th>\n",
       "      <th>min_negative_polarity</th>\n",
       "      <th>max_negative_polarity</th>\n",
       "      <th>title_subjectivity</th>\n",
       "      <th>title_sentiment_polarity</th>\n",
       "      <th>abs_title_subjectivity</th>\n",
       "      <th>abs_title_sentiment_polarity</th>\n",
       "      <th>Popular</th>\n",
       "    </tr>\n",
       "  </thead>\n",
       "  <tbody>\n",
       "    <tr>\n",
       "      <th>0</th>\n",
       "      <td>http://mashable.com/2014/12/10/cia-torture-rep...</td>\n",
       "      <td>28.0</td>\n",
       "      <td>9.0</td>\n",
       "      <td>188.0</td>\n",
       "      <td>0.732620</td>\n",
       "      <td>1.0</td>\n",
       "      <td>0.844262</td>\n",
       "      <td>5.0</td>\n",
       "      <td>1.0</td>\n",
       "      <td>1.0</td>\n",
       "      <td>...</td>\n",
       "      <td>0.200000</td>\n",
       "      <td>0.80</td>\n",
       "      <td>-0.487500</td>\n",
       "      <td>-0.60</td>\n",
       "      <td>-0.250000</td>\n",
       "      <td>0.9</td>\n",
       "      <td>0.8</td>\n",
       "      <td>0.4</td>\n",
       "      <td>0.8</td>\n",
       "      <td>1</td>\n",
       "    </tr>\n",
       "    <tr>\n",
       "      <th>1</th>\n",
       "      <td>http://mashable.com/2013/10/18/bitlock-kicksta...</td>\n",
       "      <td>447.0</td>\n",
       "      <td>7.0</td>\n",
       "      <td>297.0</td>\n",
       "      <td>0.653199</td>\n",
       "      <td>1.0</td>\n",
       "      <td>0.815789</td>\n",
       "      <td>9.0</td>\n",
       "      <td>4.0</td>\n",
       "      <td>1.0</td>\n",
       "      <td>...</td>\n",
       "      <td>0.160000</td>\n",
       "      <td>0.50</td>\n",
       "      <td>-0.135340</td>\n",
       "      <td>-0.40</td>\n",
       "      <td>-0.050000</td>\n",
       "      <td>0.1</td>\n",
       "      <td>-0.1</td>\n",
       "      <td>0.4</td>\n",
       "      <td>0.1</td>\n",
       "      <td>0</td>\n",
       "    </tr>\n",
       "    <tr>\n",
       "      <th>2</th>\n",
       "      <td>http://mashable.com/2013/07/24/google-glass-po...</td>\n",
       "      <td>533.0</td>\n",
       "      <td>11.0</td>\n",
       "      <td>181.0</td>\n",
       "      <td>0.660377</td>\n",
       "      <td>1.0</td>\n",
       "      <td>0.775701</td>\n",
       "      <td>4.0</td>\n",
       "      <td>3.0</td>\n",
       "      <td>1.0</td>\n",
       "      <td>...</td>\n",
       "      <td>0.136364</td>\n",
       "      <td>1.00</td>\n",
       "      <td>0.000000</td>\n",
       "      <td>0.00</td>\n",
       "      <td>0.000000</td>\n",
       "      <td>0.3</td>\n",
       "      <td>1.0</td>\n",
       "      <td>0.2</td>\n",
       "      <td>1.0</td>\n",
       "      <td>0</td>\n",
       "    </tr>\n",
       "    <tr>\n",
       "      <th>3</th>\n",
       "      <td>http://mashable.com/2013/11/21/these-are-the-m...</td>\n",
       "      <td>413.0</td>\n",
       "      <td>12.0</td>\n",
       "      <td>781.0</td>\n",
       "      <td>0.497409</td>\n",
       "      <td>1.0</td>\n",
       "      <td>0.677350</td>\n",
       "      <td>10.0</td>\n",
       "      <td>3.0</td>\n",
       "      <td>1.0</td>\n",
       "      <td>...</td>\n",
       "      <td>0.100000</td>\n",
       "      <td>1.00</td>\n",
       "      <td>-0.195701</td>\n",
       "      <td>-0.40</td>\n",
       "      <td>-0.071429</td>\n",
       "      <td>0.0</td>\n",
       "      <td>0.0</td>\n",
       "      <td>0.5</td>\n",
       "      <td>0.0</td>\n",
       "      <td>0</td>\n",
       "    </tr>\n",
       "    <tr>\n",
       "      <th>4</th>\n",
       "      <td>http://mashable.com/2014/02/11/parking-ticket-...</td>\n",
       "      <td>331.0</td>\n",
       "      <td>8.0</td>\n",
       "      <td>177.0</td>\n",
       "      <td>0.685714</td>\n",
       "      <td>1.0</td>\n",
       "      <td>0.830357</td>\n",
       "      <td>3.0</td>\n",
       "      <td>2.0</td>\n",
       "      <td>1.0</td>\n",
       "      <td>...</td>\n",
       "      <td>0.100000</td>\n",
       "      <td>0.55</td>\n",
       "      <td>-0.175000</td>\n",
       "      <td>-0.25</td>\n",
       "      <td>-0.100000</td>\n",
       "      <td>0.0</td>\n",
       "      <td>0.0</td>\n",
       "      <td>0.5</td>\n",
       "      <td>0.0</td>\n",
       "      <td>0</td>\n",
       "    </tr>\n",
       "  </tbody>\n",
       "</table>\n",
       "<p>5 rows × 61 columns</p>\n",
       "</div>"
      ],
      "text/plain": [
       "                                                 url  timedelta  \\\n",
       "0  http://mashable.com/2014/12/10/cia-torture-rep...       28.0   \n",
       "1  http://mashable.com/2013/10/18/bitlock-kicksta...      447.0   \n",
       "2  http://mashable.com/2013/07/24/google-glass-po...      533.0   \n",
       "3  http://mashable.com/2013/11/21/these-are-the-m...      413.0   \n",
       "4  http://mashable.com/2014/02/11/parking-ticket-...      331.0   \n",
       "\n",
       "   n_tokens_title  n_tokens_content  n_unique_tokens  n_non_stop_words  \\\n",
       "0             9.0             188.0         0.732620               1.0   \n",
       "1             7.0             297.0         0.653199               1.0   \n",
       "2            11.0             181.0         0.660377               1.0   \n",
       "3            12.0             781.0         0.497409               1.0   \n",
       "4             8.0             177.0         0.685714               1.0   \n",
       "\n",
       "   n_non_stop_unique_tokens  num_hrefs  num_self_hrefs  num_imgs  ...  \\\n",
       "0                  0.844262        5.0             1.0       1.0  ...   \n",
       "1                  0.815789        9.0             4.0       1.0  ...   \n",
       "2                  0.775701        4.0             3.0       1.0  ...   \n",
       "3                  0.677350       10.0             3.0       1.0  ...   \n",
       "4                  0.830357        3.0             2.0       1.0  ...   \n",
       "\n",
       "   min_positive_polarity  max_positive_polarity  avg_negative_polarity  \\\n",
       "0               0.200000                   0.80              -0.487500   \n",
       "1               0.160000                   0.50              -0.135340   \n",
       "2               0.136364                   1.00               0.000000   \n",
       "3               0.100000                   1.00              -0.195701   \n",
       "4               0.100000                   0.55              -0.175000   \n",
       "\n",
       "   min_negative_polarity  max_negative_polarity  title_subjectivity  \\\n",
       "0                  -0.60              -0.250000                 0.9   \n",
       "1                  -0.40              -0.050000                 0.1   \n",
       "2                   0.00               0.000000                 0.3   \n",
       "3                  -0.40              -0.071429                 0.0   \n",
       "4                  -0.25              -0.100000                 0.0   \n",
       "\n",
       "   title_sentiment_polarity  abs_title_subjectivity  \\\n",
       "0                       0.8                     0.4   \n",
       "1                      -0.1                     0.4   \n",
       "2                       1.0                     0.2   \n",
       "3                       0.0                     0.5   \n",
       "4                       0.0                     0.5   \n",
       "\n",
       "   abs_title_sentiment_polarity  Popular  \n",
       "0                           0.8        1  \n",
       "1                           0.1        0  \n",
       "2                           1.0        0  \n",
       "3                           0.0        0  \n",
       "4                           0.0        0  \n",
       "\n",
       "[5 rows x 61 columns]"
      ]
     },
     "execution_count": 14,
     "metadata": {},
     "output_type": "execute_result"
    }
   ],
   "source": [
    "# Lectura de la información de archivo .csv\n",
    "df = pd.read_csv('https://raw.githubusercontent.com/davidzarruk/MIAD_ML_NLP_2023/main/datasets/mashable.csv', index_col=0)\n",
    "df.head()"
   ]
  },
  {
   "cell_type": "code",
   "execution_count": 15,
   "metadata": {},
   "outputs": [
    {
     "data": {
      "text/plain": [
       "0.5"
      ]
     },
     "execution_count": 15,
     "metadata": {},
     "output_type": "execute_result"
    }
   ],
   "source": [
    "# Definición variable de interes y variables predictoras\n",
    "X = df.drop(['url', 'Popular'], axis=1)\n",
    "y = df['Popular']\n",
    "y.mean()"
   ]
  },
  {
   "cell_type": "code",
   "execution_count": 20,
   "metadata": {},
   "outputs": [],
   "source": [
    "# División de la muestra en set de entrenamiento y prueba\n",
    "from sklearn.model_selection import train_test_split\n",
    "X_train, X_test, y_train, y_test = train_test_split(X, y, random_state=1)"
   ]
  },
  {
   "cell_type": "markdown",
   "metadata": {},
   "source": [
    "### Punto 6 - Árbol de decisión y regresión logística\n",
    "En la celda 6 construya un árbol de decisión y una regresión logística. Para el árbol calibre al menos un parámetro y evalúe el desempeño de cada modelo usando las métricas de Accuracy y F1-Score."
   ]
  },
  {
   "cell_type": "code",
   "execution_count": 22,
   "metadata": {},
   "outputs": [
    {
     "name": "stdout",
     "output_type": "stream",
     "text": [
      "(0.6308888888888888, 2)\n"
     ]
    }
   ],
   "source": [
    "from sklearn.tree import DecisionTreeClassifier\n",
    "max_depth_range = range(1, 21)\n",
    "accuracy_scores = []\n",
    "\n",
    "for depth in max_depth_range:\n",
    "    clf = DecisionTreeClassifier(max_depth=depth, random_state=42)\n",
    "    accuracy_scores.append(cross_val_score(clf, X_train, y_train, cv=10, scoring='accuracy').mean())\n",
    "\n",
    "print(sorted(zip(accuracy_scores, max_depth_range))[::-1][0])"
   ]
  },
  {
   "cell_type": "code",
   "execution_count": 23,
   "metadata": {},
   "outputs": [
    {
     "data": {
      "text/plain": [
       "Text(0, 0.5, 'Accuracy')"
      ]
     },
     "execution_count": 23,
     "metadata": {},
     "output_type": "execute_result"
    },
    {
     "data": {
      "image/png": "[encoded data removed]",
      "text/plain": [
       "<Figure size 432x288 with 1 Axes>"
      ]
     },
     "metadata": {
      "needs_background": "light"
     },
     "output_type": "display_data"
    }
   ],
   "source": [
    "# Gráfica max_depth versus RMSE (error del modelo)\n",
    "plt.plot(max_depth_range, accuracy_scores)\n",
    "plt.xlabel('max_depth')\n",
    "plt.ylabel('Accuracy')"
   ]
  },
  {
   "cell_type": "code",
   "execution_count": 24,
   "metadata": {
    "scrolled": true
   },
   "outputs": [
    {
     "name": "stdout",
     "output_type": "stream",
     "text": [
      "Árboles de decisión\n",
      "Accuracy: 0.6453333333333333\n",
      "F1 score: 0.6448598130841121\n",
      "Regresión logística\n",
      "Accuracy: 0.6146666666666667\n",
      "F1 score: 0.6110363391655451\n"
     ]
    }
   ],
   "source": [
    "# Celda 6\n",
    "from sklearn.tree import DecisionTreeClassifier\n",
    "from sklearn.metrics import f1_score\n",
    "from sklearn.linear_model import LogisticRegression\n",
    "from sklearn.model_selection import cross_val_score\n",
    "\n",
    "    \n",
    "    \n",
    "tree = DecisionTreeClassifier(max_depth=2, random_state=42)\n",
    "tree.fit(X_train, y_train)\n",
    "y_pred = tree.predict(X_test)\n",
    "print(\"Árboles de decisión\")\n",
    "print(\"Accuracy:\", tree.score(X_test, y_test))\n",
    "f1 = f1_score(y_test, y_pred)\n",
    "print(\"F1 score:\", f1)\n",
    "\n",
    "lr = LogisticRegression()\n",
    "lr.fit(X_train, y_train)\n",
    "y_pred = lr.predict(X_test)\n",
    "accuracy = lr.score(X_test, y_test)\n",
    "f1 = f1_score(y_test, y_pred)\n",
    "\n",
    "y_pred = tree.predict(X_test)\n",
    "print(\"Regresión logística\")\n",
    "print(\"Accuracy:\", accuracy)\n",
    "print(\"F1 score:\", f1)"
   ]
  },
  {
   "cell_type": "markdown",
   "metadata": {},
   "source": [
    "Para mejorar el desempeño del modelo de árboles de decisión, se decidió ajustar el parámetro max_depth, que controla la profundidad máxima del árbol, y se seleccionó el valor que obtuvo el mayor accuracy en el conjunto de validación. Después de este proceso de calibración, se obtuvo un accuracy de 0.64, lo que significa que el modelo clasificó correctamente el 64% de las muestras en el conjunto de datos. El F1 también fue de 0.64, lo que indica un buen equilibrio entre precisión y exhaustividad.\n",
    "\n",
    "Es importante destacar que estas dos medidas de desempeño fueron superiores a las obtenidas para el modelo de regresión logística, lo que sugiere que el modelo de árboles de decisión presenta un mejor desempeño para este problema de clasificación en particular.\n",
    "\n",
    "Una de las ventajas de los modelos de árboles de decisión es su capacidad para capturar relaciones no lineales y complejas entre las variables de entrada y la variable de salida, lo que puede ser especialmente útil en casos donde la relación entre las variables no es obvia o bien definida. Además, los árboles de decisión son fáciles de interpretar y permiten visualizar de manera clara cómo se toman las decisiones de clasificación."
   ]
  },
  {
   "cell_type": "markdown",
   "metadata": {},
   "source": [
    "### Punto 7 - Votación Mayoritaria\n",
    "En la celda 7 elabore un esamble con la metodología de **Votación mayoritaria** compuesto por 300 muestras bagged para cada uno de los siguientes escenarios:\n",
    "\n",
    "-100 árboles de decisión donde max_depth tome un valor de su elección\\\n",
    "-100 árboles de decisión donde min_samples_leaf tome un valor de su elección\\\n",
    "-100 regresiones logísticas\n",
    "\n",
    "Evalúe cada uno de los tres modelos de manera independiente utilizando las métricas de Accuracy y F1-Score, luego evalúe el ensamble de modelos y compare los resultados. "
   ]
  },
  {
   "cell_type": "code",
   "execution_count": 26,
   "metadata": {},
   "outputs": [
    {
     "name": "stdout",
     "output_type": "stream",
     "text": [
      "dt10 0.5696969696969697 0.574\n",
      "dt2 0.6448598130841121 0.6453333333333333\n",
      "nb 0.6110363391655451 0.6146666666666667\n"
     ]
    }
   ],
   "source": [
    "from sklearn import metrics\n",
    "models = {'dt10': DecisionTreeClassifier(min_samples_leaf=10, random_state=42),\n",
    "          'dt2': DecisionTreeClassifier(max_depth=2, random_state=42),\n",
    "          'nb': LogisticRegression()}\n",
    "\n",
    "for model in models.keys():\n",
    "    models[model].fit(X_train, y_train)\n",
    "    y_pred = models[model].predict(X_test)\n",
    "    print(model, metrics.f1_score(y_pred, y_test), metrics.accuracy_score(y_pred, y_test))"
   ]
  },
  {
   "cell_type": "code",
   "execution_count": 27,
   "metadata": {},
   "outputs": [
    {
     "data": {
      "text/plain": [
       "(0.6572008113590264, 0.662)"
      ]
     },
     "execution_count": 27,
     "metadata": {},
     "output_type": "execute_result"
    }
   ],
   "source": [
    "# Celda 7\n",
    "from sklearn.ensemble import BaggingClassifier\n",
    "from sklearn import metrics\n",
    "\n",
    "clf = BaggingClassifier(base_estimator=DecisionTreeClassifier(min_samples_leaf=10, random_state=42), max_samples=300, n_estimators=100, bootstrap=True,\n",
    "                        random_state=42, n_jobs=-1, oob_score=True)\n",
    "\n",
    "clf.fit(X_train, y_train)\n",
    "y_pred = clf.predict(X_test)\n",
    "metrics.f1_score(y_pred, y_test), metrics.accuracy_score(y_pred, y_test)"
   ]
  },
  {
   "cell_type": "code",
   "execution_count": 28,
   "metadata": {},
   "outputs": [
    {
     "data": {
      "text/plain": [
       "(0.631578947368421, 0.6453333333333333)"
      ]
     },
     "execution_count": 28,
     "metadata": {},
     "output_type": "execute_result"
    }
   ],
   "source": [
    "# Celda 7\n",
    "from sklearn.ensemble import BaggingClassifier\n",
    "from sklearn import metrics\n",
    "\n",
    "clf = BaggingClassifier(base_estimator=DecisionTreeClassifier(max_depth=2, random_state=42), max_samples=300, n_estimators=100, bootstrap=True,\n",
    "                        random_state=42, n_jobs=-1, oob_score=True)\n",
    "\n",
    "clf.fit(X_train, y_train)\n",
    "y_pred = clf.predict(X_test)\n",
    "metrics.f1_score(y_pred, y_test), metrics.accuracy_score(y_pred, y_test)"
   ]
  },
  {
   "cell_type": "code",
   "execution_count": 29,
   "metadata": {},
   "outputs": [
    {
     "data": {
      "text/plain": [
       "(0.6147596479350035, 0.6206666666666667)"
      ]
     },
     "execution_count": 29,
     "metadata": {},
     "output_type": "execute_result"
    }
   ],
   "source": [
    "# Celda 7\n",
    "from sklearn.ensemble import BaggingClassifier\n",
    "from sklearn import metrics\n",
    "\n",
    "clf = BaggingClassifier(base_estimator=LogisticRegression(), max_samples=300, n_estimators=100, bootstrap=True,\n",
    "                        random_state=42, n_jobs=-1, oob_score=True)\n",
    "\n",
    "clf.fit(X_train, y_train)\n",
    "y_pred = clf.predict(X_test)\n",
    "metrics.f1_score(y_pred, y_test), metrics.accuracy_score(y_pred, y_test)"
   ]
  },
  {
   "cell_type": "markdown",
   "metadata": {},
   "source": [
    "Inicialmente, se construyeron modelos de árboles de decisión con 10 hojas, árboles de decisión con máxima profundidad de 2 y regresión logística para resolver un problema de clasificación. De estos, el modelo de árboles de decisión con máxima profundidad de 2 tuvo el mejor desempeño, con un accuracy de 0.64 y un F1 de igual valor.\n",
    "\n",
    "Sin embargo, al ensamblar estos modelos mediante votación mayoritaria se presentaron mejoras en las métricas del modelo 1 y del modelo 3, aunque el modelo 2 empeoró levemente. Este resultado sugiere que la combinación de estos modelos puede, en ocasiones, ayudar a mejorar la precisión y la estabilidad de las predicciones.\n",
    "\n",
    "Después de aplicar la votación mayoritaria, se encontró que el modelo de árboles de decisión con 10 hojas presentó el mejor desempeño, con un accuracy de 0.68 y un F1 de 0.66. El accuracy de 0.68 significa que el modelo clasificó correctamente el 68% de las muestras en el conjunto de datos.\n",
    "\n",
    "Esta mejora en el desempeño del modelo de árboles de decisión con 10 hojas puede deberse a la combinación de diferentes perspectivas y enfoques de los modelos individuales, lo que permite obtener un modelo más completo y robusto. Además, la votación mayoritaria permite reducir el riesgo de sobreajuste y aumentar la generalización del modelo a nuevos datos."
   ]
  },
  {
   "cell_type": "markdown",
   "metadata": {},
   "source": [
    "### Punto 8 - Votación Ponderada\n",
    "En la celda 8 elabore un ensamble con la metodología de **Votación ponderada** compuesto por 300 muestras bagged para los mismos tres escenarios del punto 7. Evalúe los modelos utilizando las métricas de Accuracy y F1-Score"
   ]
  },
  {
   "cell_type": "code",
   "execution_count": 30,
   "metadata": {},
   "outputs": [
    {
     "data": {
      "text/plain": [
       "(0.6289308176100629, 0.646)"
      ]
     },
     "execution_count": 30,
     "metadata": {},
     "output_type": "execute_result"
    }
   ],
   "source": [
    "# Celda 8\n",
    "\n",
    "from sklearn.ensemble import BaggingClassifier\n",
    "from sklearn import metrics\n",
    "\n",
    "clf = BaggingClassifier(base_estimator=DecisionTreeClassifier(min_samples_leaf=10, random_state=42), max_samples=300, n_estimators=100, bootstrap=True,\n",
    "                        random_state=42, n_jobs=-1, oob_score=True)\n",
    "\n",
    "clf.fit(X_train, y_train)\n",
    "y_pred = clf.predict(X_test)\n",
    "metrics.f1_score(y_pred, y_test), metrics.accuracy_score(y_pred, y_test)\n",
    "\n",
    "errors = np.zeros(clf.n_estimators)\n",
    "y_pred_all_ = np.zeros((X_test.shape[0], clf.n_estimators))\n",
    "\n",
    "for i in range(clf.n_estimators):\n",
    "    oob_sample = ~clf.estimators_samples_[i]\n",
    "    y_pred_ = clf.estimators_[i].predict(X_train.values[oob_sample])\n",
    "    errors[i] = metrics.accuracy_score(y_pred_, y_train.values[oob_sample])\n",
    "    y_pred_all_[:, i] = clf.estimators_[i].predict(X_test)\n",
    "    \n",
    "alpha = (1 - errors) / (1 - errors).sum()\n",
    "y_pred = (np.sum(y_pred_all_ * alpha, axis=1) >= 0.5).astype(np.int)\n",
    "\n",
    "metrics.f1_score(y_pred, y_test), metrics.accuracy_score(y_pred, y_test)"
   ]
  },
  {
   "cell_type": "code",
   "execution_count": 31,
   "metadata": {},
   "outputs": [
    {
     "data": {
      "text/plain": [
       "(0.6324549237170597, 0.6466666666666666)"
      ]
     },
     "execution_count": 31,
     "metadata": {},
     "output_type": "execute_result"
    }
   ],
   "source": [
    "# Celda 8\n",
    "\n",
    "from sklearn.ensemble import BaggingClassifier\n",
    "from sklearn import metrics\n",
    "\n",
    "clf = BaggingClassifier(base_estimator=DecisionTreeClassifier(max_depth=2, random_state=42), max_samples=300, n_estimators=100, bootstrap=True,\n",
    "                        random_state=42, n_jobs=-1, oob_score=True)\n",
    "\n",
    "clf.fit(X_train, y_train)\n",
    "y_pred = clf.predict(X_test)\n",
    "metrics.f1_score(y_pred, y_test), metrics.accuracy_score(y_pred, y_test)\n",
    "\n",
    "errors = np.zeros(clf.n_estimators)\n",
    "y_pred_all_ = np.zeros((X_test.shape[0], clf.n_estimators))\n",
    "\n",
    "for i in range(clf.n_estimators):\n",
    "    oob_sample = ~clf.estimators_samples_[i]\n",
    "    y_pred_ = clf.estimators_[i].predict(X_train.values[oob_sample])\n",
    "    errors[i] = metrics.accuracy_score(y_pred_, y_train.values[oob_sample])\n",
    "    y_pred_all_[:, i] = clf.estimators_[i].predict(X_test)\n",
    "    \n",
    "alpha = (1 - errors) / (1 - errors).sum()\n",
    "y_pred = (np.sum(y_pred_all_ * alpha, axis=1) >= 0.5).astype(np.int)\n",
    "\n",
    "metrics.f1_score(y_pred, y_test), metrics.accuracy_score(y_pred, y_test)"
   ]
  },
  {
   "cell_type": "code",
   "execution_count": 32,
   "metadata": {},
   "outputs": [
    {
     "data": {
      "text/plain": [
       "(0.6166328600405679, 0.622)"
      ]
     },
     "execution_count": 32,
     "metadata": {},
     "output_type": "execute_result"
    }
   ],
   "source": [
    "# Celda 8\n",
    "\n",
    "from sklearn.ensemble import BaggingClassifier\n",
    "from sklearn import metrics\n",
    "\n",
    "clf = BaggingClassifier(base_estimator=LogisticRegression(), max_samples=300, n_estimators=100, bootstrap=True,\n",
    "                        random_state=42, n_jobs=-1, oob_score=True)\n",
    "\n",
    "clf.fit(X_train, y_train)\n",
    "y_pred = clf.predict(X_test)\n",
    "metrics.f1_score(y_pred, y_test), metrics.accuracy_score(y_pred, y_test)\n",
    "\n",
    "errors = np.zeros(clf.n_estimators)\n",
    "y_pred_all_ = np.zeros((X_test.shape[0], clf.n_estimators))\n",
    "\n",
    "for i in range(clf.n_estimators):\n",
    "    oob_sample = ~clf.estimators_samples_[i]\n",
    "    y_pred_ = clf.estimators_[i].predict(X_train.values[oob_sample])\n",
    "    errors[i] = metrics.accuracy_score(y_pred_, y_train.values[oob_sample])\n",
    "    y_pred_all_[:, i] = clf.estimators_[i].predict(X_test)\n",
    "    \n",
    "alpha = (1 - errors) / (1 - errors).sum()\n",
    "y_pred = (np.sum(y_pred_all_ * alpha, axis=1) >= 0.5).astype(np.int)\n",
    "\n",
    "metrics.f1_score(y_pred, y_test), metrics.accuracy_score(y_pred, y_test)"
   ]
  },
  {
   "cell_type": "markdown",
   "metadata": {},
   "source": [
    "Se realizó una extensión de los modelos del punto 7 a través de un ensamble de votación ponderada, lo que permitió mejorar el desempeño del modelo de árboles de decisión con 2 de profundidad y el modelo de regresión logística en comparación con el caso de votación simple. Sin embargo, el modelo de árboles de decisión con 10 hojas empeoró y presentó valores de 0.63 para la precisión y un F1 de 0.65.\n",
    "\n",
    "El modelo que presentó el mejor desempeño con votación ponderada fue el de árboles de decisión con máximo de profundidad igual a 2. Esta técnica de ensamble se basa en combinar las predicciones de múltiples modelos para obtener una predicción más precisa y estable.\n",
    "\n",
    "La votación ponderada consiste en asignar pesos a cada modelo según su desempeño en el conjunto de entrenamiento. De esta manera, los modelos más precisos tendrán un mayor peso en la predicción final. Esto puede ayudar a mejorar la capacidad predictiva del ensamble y evitar que un modelo con desempeño deficiente arrastre el resultado general hacia abajo."
   ]
  },
  {
   "cell_type": "markdown",
   "metadata": {},
   "source": [
    "### Punto 9 - Comparación y análisis de resultados\n",
    "En la celda 9 comente sobre los resultados obtenidos con las metodologías usadas en los puntos 7 y 8, compare los resultados y enuncie posibles ventajas o desventajas de cada una de ellas."
   ]
  },
  {
   "cell_type": "code",
   "execution_count": 33,
   "metadata": {},
   "outputs": [
    {
     "data": {
      "text/html": [
       "<div>\n",
       "<style scoped>\n",
       "    .dataframe tbody tr th:only-of-type {\n",
       "        vertical-align: middle;\n",
       "    }\n",
       "\n",
       "    .dataframe tbody tr th {\n",
       "        vertical-align: top;\n",
       "    }\n",
       "\n",
       "    .dataframe thead th {\n",
       "        text-align: right;\n",
       "    }\n",
       "</style>\n",
       "<table border=\"1\" class=\"dataframe\">\n",
       "  <thead>\n",
       "    <tr style=\"text-align: right;\">\n",
       "      <th></th>\n",
       "      <th>Modelo</th>\n",
       "      <th>Accuracy</th>\n",
       "      <th>F1</th>\n",
       "    </tr>\n",
       "  </thead>\n",
       "  <tbody>\n",
       "    <tr>\n",
       "      <th>0</th>\n",
       "      <td>Árboles de decisión (min_samples_leaf=10)</td>\n",
       "      <td>0.569697</td>\n",
       "      <td>0.574000</td>\n",
       "    </tr>\n",
       "    <tr>\n",
       "      <th>1</th>\n",
       "      <td>Árboles de decisión (max_depth=10)</td>\n",
       "      <td>0.644860</td>\n",
       "      <td>0.645333</td>\n",
       "    </tr>\n",
       "    <tr>\n",
       "      <th>2</th>\n",
       "      <td>Regresión logística</td>\n",
       "      <td>0.611036</td>\n",
       "      <td>0.614667</td>\n",
       "    </tr>\n",
       "    <tr>\n",
       "      <th>3</th>\n",
       "      <td>Árboles de decisión VS (min_samples_leaf=10)</td>\n",
       "      <td>0.657201</td>\n",
       "      <td>0.662000</td>\n",
       "    </tr>\n",
       "    <tr>\n",
       "      <th>4</th>\n",
       "      <td>Árboles de decisión VS (max_depth=10)</td>\n",
       "      <td>0.631579</td>\n",
       "      <td>0.645333</td>\n",
       "    </tr>\n",
       "    <tr>\n",
       "      <th>5</th>\n",
       "      <td>Regresión logística VS</td>\n",
       "      <td>0.614344</td>\n",
       "      <td>0.620000</td>\n",
       "    </tr>\n",
       "    <tr>\n",
       "      <th>6</th>\n",
       "      <td>Árboles de decisión VP (min_samples_leaf=10)</td>\n",
       "      <td>0.628931</td>\n",
       "      <td>0.646000</td>\n",
       "    </tr>\n",
       "    <tr>\n",
       "      <th>7</th>\n",
       "      <td>Árboles de decisión VP (max_depth=10)</td>\n",
       "      <td>0.632455</td>\n",
       "      <td>0.646667</td>\n",
       "    </tr>\n",
       "    <tr>\n",
       "      <th>8</th>\n",
       "      <td>Regresión logística VP</td>\n",
       "      <td>0.615903</td>\n",
       "      <td>0.620000</td>\n",
       "    </tr>\n",
       "  </tbody>\n",
       "</table>\n",
       "</div>"
      ],
      "text/plain": [
       "                                         Modelo  Accuracy        F1\n",
       "0     Árboles de decisión (min_samples_leaf=10)  0.569697  0.574000\n",
       "1            Árboles de decisión (max_depth=10)  0.644860  0.645333\n",
       "2                           Regresión logística  0.611036  0.614667\n",
       "3  Árboles de decisión VS (min_samples_leaf=10)  0.657201  0.662000\n",
       "4         Árboles de decisión VS (max_depth=10)  0.631579  0.645333\n",
       "5                        Regresión logística VS  0.614344  0.620000\n",
       "6  Árboles de decisión VP (min_samples_leaf=10)  0.628931  0.646000\n",
       "7         Árboles de decisión VP (max_depth=10)  0.632455  0.646667\n",
       "8                        Regresión logística VP  0.615903  0.620000"
      ]
     },
     "execution_count": 33,
     "metadata": {},
     "output_type": "execute_result"
    }
   ],
   "source": [
    "# Celda 9\n",
    "\n",
    "tabla=pd.DataFrame(data=[[\"Árboles de decisión (min_samples_leaf=10)\",0.5696969696969697,0.574],\n",
    "                        [\"Árboles de decisión (max_depth=10)\",0.6448598130841121,0.6453333333333333],\n",
    "                        [\"Regresión logística\",0.6110363391655451,0.6146666666666667],\n",
    "                        [\"Árboles de decisión VS (min_samples_leaf=10)\",0.6572008113590264,0.662],\n",
    "                        [\"Árboles de decisión VS (max_depth=10)\",0.631578947368421,0.6453333333333333],\n",
    "                        [\"Regresión logística VS\",0.614343707713126,0.62],\n",
    "                        [\"Árboles de decisión VP (min_samples_leaf=10)\",0.6289308176100629,0.646],\n",
    "                        [\"Árboles de decisión VP (max_depth=10)\",0.6324549237170597,0.6466666666666666],\n",
    "                        [\"Regresión logística VP\",0.6159029649595688,0.62]],\n",
    "                        columns = [\"Modelo\", \"Accuracy\", \"F1\"])\n",
    "tabla"
   ]
  },
  {
   "cell_type": "markdown",
   "metadata": {},
   "source": [
    "La tabla muestra el desempeño de los modelos implementados en términos de accuracy y puntaje F1 para el conjunto de datos. A continuación, se presentan algunas observaciones:\n",
    "\n",
    "- Árboles de decisión con min_samples_leaf=10: Este modelo tiene una precisión de 0.57 y un puntaje F1 de 0.57. Este modelo presenta un rendimiento inferior en comparación con los otros modelos en la tabla.\n",
    "\n",
    "- Árboles de decisión con max_depth=10: Este modelo tiene una precisión de 0.64 y un puntaje F1 de 0.65. Este modelo tiene un rendimiento ligeramente superior en términos de precisión y puntaje F1, siendo el que presenta el segundo mejor desempeño de la tabla.\n",
    "\n",
    "- Regresión logística: Este modelo tiene una precisión de 0.61 y un puntaje F1 de 0.61. Tiene un rendimiento moderado en términos de precisión y puntaje F1.\n",
    "\n",
    "- Árboles de decisión VS (min_samples_leaf=10): Este modelo utiliza un ensamble por votación simple y tiene una precisión de 0.66 y un puntaje F1 de 0.66. Tiene un rendimiento superior al modelo de árboles de decisión con min_samples_leaf=10 y, en general, un rendimiento superior a los demás modelos.\n",
    "\n",
    "- Árboles de decisión VS (max_depth=10): Este modelo utiliza un ensamble por votación simple y tiene una precisión de 0.63 y un puntaje F1 de 0.65. Este modelo parece tener un rendimiento similar al modelo de árboles de decisión con max_depth=10, empeorando levemente el accuracy.\n",
    "\n",
    "- Regresión logística VS: Este modelo utiliza un ensamble por votación simple y tiene una precisión de 0.61 y un puntaje F1 de 0.62. Este modelo presenta un rendimiento similar al modelo de regresión logística, con mejoras leves.\n",
    "\n",
    "- Árboles de decisión VP (min_samples_leaf=10): Este modelo utiliza un ensamble por votación ponderada y tiene una precisión de 0.63 y un puntaje F1 de 0.65. Este modelo parece tener un rendimiento inferior al modelo de árboles de decisión con max_depth=10.\n",
    "\n",
    "- Árboles de decisión VP (max_depth=10): Este modelo utiliza un ensamble por votación ponderada y tiene una precisión de 0.63 y un puntaje F1 de 0.65. Este modelo parece tener un rendimiento similar al modelo de árboles de decisión con max_depth=10.\n",
    "\n",
    "- Regresión logística VP: Este modelo utiliza un ensamble por votación ponderada y tiene una precisión de 0.62 y un puntaje F1 de 0.62. Este modelo cuenta con un rendimiento similar al modelo de regresión logística.\n",
    "\n",
    "En general, los modelos de ensamble por votación parecen tener un rendimiento superior en términos de precisión y puntaje F1 en comparación con los modelos individuales de árboles de decisión y regresión logística. Sin embargo, la precisión y el puntaje F1 varían entre los diferentes modelos de ensamble por votación. Los modelos con ensamble por votación simple otorgaron el mejor resultado al usarse en árboles de decisión con min_samples_leaf=10.\n",
    "\n",
    "Una posible ventaja de los modelos de árboles de decisión con respecto a la regresión logística es su capacidad para manejar tanto variables numéricas como categóricas y su capacidad para detectar interacciones entre variables a través de las segmentaciones. Sin embargo, estos modelos pueden ser propensos al sobreajuste si se les permite crecer demasiado en profundidad o si se usan conjuntos de datos pequeños. En esta aplicación, esta limitación fue controlada a través de la calibración de los hiperparámetros. Además, los modelos de árboles de decisión individuales pueden ser menos estables que los modelos de ensamble por votación debido a su sensibilidad a pequeñas variaciones en los datos de entrenamiento.\n",
    "\n",
    "Por otro lado, la regresión logística es un modelo que puede ser fácil de interpretar y analizar, pero puede tener un desempeño limitado en casos en los que las relaciones entre las variables no son lineales. Además, como modelo estadístico está sujeto a una mayor cantidad de supuestos, sobre todo en términos de distribuciones, que garantizan la calidad de sus inferencias, pero que en ocasiones son difíciles de cumplir. \n",
    "\n",
    "En cuanto a los modelos de ensamble por votación, una posible ventaja es que combinan la salida de varios modelos individuales para mejorar la precisión y estabilidad. Los modelos de ensamble por votación simple pueden ser más fáciles de interpretar que los modelos de ensamble por votación ponderada, ya que cada modelo individual tiene el mismo peso en la votación. Sin embargo, los modelos de ensamble por votación ponderada pueden mejorar aún más el rendimiento al asignar diferentes pesos a los modelos individuales según su rendimiento en el conjunto de datos, aunque en esta aplicación no fue el caso, encontrándose el mejor modelo en la votación simple."
   ]
  }
 ],
 "metadata": {
  "kernelspec": {
   "display_name": "Python 3 (ipykernel)",
   "language": "python",
   "name": "python3"
  },
  "language_info": {
   "codemirror_mode": {
    "name": "ipython",
    "version": 3
   },
   "file_extension": ".py",
   "mimetype": "text/x-python",
   "name": "python",
   "nbconvert_exporter": "python",
   "pygments_lexer": "ipython3",
   "version": "3.9.12"
  }
 },
 "nbformat": 4,
 "nbformat_minor": 4
}
